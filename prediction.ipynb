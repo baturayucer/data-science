{
 "cells": [
  {
   "cell_type": "code",
   "execution_count": 328,
   "metadata": {},
   "outputs": [],
   "source": [
    "import warnings\n",
    "warnings.filterwarnings('ignore')\n",
    "warnings.simplefilter(\"ignore\")"
   ]
  },
  {
   "cell_type": "code",
   "execution_count": 329,
   "metadata": {},
   "outputs": [],
   "source": [
    "import pandas as pd\n",
    "import pmdarima as pm\n",
    "\n",
    "from matplotlib import pyplot as plt\n",
    "import seaborn as sns\n",
    "\n",
    "sns.set_style('darkgrid')"
   ]
  },
  {
   "cell_type": "markdown",
   "metadata": {},
   "source": [
    "---\n",
    "### Data processing"
   ]
  },
  {
   "cell_type": "code",
   "execution_count": 333,
   "metadata": {},
   "outputs": [],
   "source": [
    "df = pd.read_csv('data/pizza-sales-data.csv', parse_dates=['DATE'])"
   ]
  },
  {
   "cell_type": "code",
   "execution_count": 334,
   "metadata": {},
   "outputs": [],
   "source": [
    "df.sort_values(['CATEGORY', 'DATE'], inplace=True)"
   ]
  },
  {
   "cell_type": "code",
   "execution_count": 335,
   "metadata": {},
   "outputs": [],
   "source": [
    "df.reset_index(drop=True, inplace=True)"
   ]
  },
  {
   "cell_type": "markdown",
   "metadata": {},
   "source": [
    "---\n",
    "### Data modelling using `pmdarima`"
   ]
  },
  {
   "cell_type": "code",
   "execution_count": 336,
   "metadata": {},
   "outputs": [],
   "source": [
    "def predict_data(train: pd.Series, n_periods: int):\n",
    "    try:\n",
    "        arima = pm.auto_arima(train, seasonal=False, error_action='ignore')\n",
    "        prediction = arima.predict(n_periods=n_periods)\n",
    "    except Exception as ex:\n",
    "        print(str(ex))\n",
    "        prediction = None\n",
    "    finally:\n",
    "        return prediction"
   ]
  },
  {
   "cell_type": "code",
   "execution_count": 337,
   "metadata": {},
   "outputs": [],
   "source": [
    "step = int(len(data) * .85) # %85 for train"
   ]
  },
  {
   "cell_type": "code",
   "execution_count": 339,
   "metadata": {},
   "outputs": [],
   "source": [
    "first_time = True\n",
    "for idx, data in df.groupby(['CATEGORY']):\n",
    "    data.set_index(['DATE'], inplace=True)\n",
    "    \n",
    "    train, test = data['SALES'][:step], data['SALES'][step:]\n",
    "    predicted = predict_data(train=train, n_periods=test.shape[0])\n",
    "    data['SALES_PRED'] = pd.Series(data=predicted, index=test.index, name=test.name)\n",
    "    \n",
    "    if first_time:\n",
    "        data.to_csv('export/pizza-sales-data-prediction-result.csv')\n",
    "        first_time = False\n",
    "    else:\n",
    "        data.to_csv('export/pizza-sales-data-prediction-result.csv', mode='a', header=False)\n",
    "    "
   ]
  },
  {
   "cell_type": "code",
   "execution_count": null,
   "metadata": {},
   "outputs": [],
   "source": []
  }
 ],
 "metadata": {
  "kernelspec": {
   "display_name": "Python 3",
   "language": "python",
   "name": "python3"
  },
  "language_info": {
   "codemirror_mode": {
    "name": "ipython",
    "version": 3
   },
   "file_extension": ".py",
   "mimetype": "text/x-python",
   "name": "python",
   "nbconvert_exporter": "python",
   "pygments_lexer": "ipython3",
   "version": "3.7.1"
  }
 },
 "nbformat": 4,
 "nbformat_minor": 2
}
